{
 "cells": [
  {
   "cell_type": "markdown",
   "metadata": {},
   "source": [
    "# Pre-requisites\n",
    "\n",
    "1. Install [.NET 5](https://dotnet.microsoft.com/download/dotnet/5.0)\n",
    "2. Install [.NET Interactive Notebooks](https://marketplace.visualstudio.com/items?itemName=ms-dotnettools.dotnet-interactive-vscode) extension\n",
    "3. Install [.NET Install Tool for Extension Authors](https://marketplace.visualstudio.com/items?itemName=ms-dotnettools.dotnet-interactive-vscode) extension\n",
    "4. Install [Data Table](https://marketplace.visualstudio.com/items?itemName=RandomFractalsInc.vscode-data-table) extension\n",
    "5. Login into your Azure account on [Azure Account](https://marketplace.visualstudio.com/items?itemName=ms-vscode.azure-account) extension\n",
    "6. Confirm that the Azure account you use to login can access your Power Apps environment"
   ]
  },
  {
   "cell_type": "markdown",
   "metadata": {},
   "source": [
    "# Dataverse Interactive Notebook\n",
    "\n",
    "This notebook demonstrates how you can use interactive notebooks with PowerPlatform .net core assembly"
   ]
  },
  {
   "cell_type": "code",
   "execution_count": null,
   "metadata": {
    "dotnet_interactive": {
     "language": "csharp"
    }
   },
   "outputs": [],
   "source": [
    "#r \"nuget:Microsoft.PowerPlatform.Dataverse.Client,*-*\"\n",
    "#r \"nuget:Azure.Identity,*-*\"\n",
    "#r \"nuget:Microsoft.DotNet.Interactive.ExtensionLab,*-*\"\n",
    "#r \"nuget:Microsoft.Data.Analysis,*-*\"\n",
    "#r \"nuget:Microsoft.DotNet.Interactive.ExtensionLab,*-*\"\n",
    "#r \"nuget: System.Runtime.Caching,*-*\"\n",
    "\n",
    "using Microsoft.DotNet.Interactive.Formatting;\n",
    "using static System.Console;\n",
    "using System.Linq;\n",
    "using System.Collections;\n",
    "using System.Collections.Generic;\n",
    "using Azure.Core;\n",
    "using Azure.Identity;\n",
    "using Microsoft.PowerPlatform.Dataverse.Client;\n",
    "using Microsoft.Xrm.Sdk;\n",
    "using Microsoft.Xrm.Sdk.Metadata;\n",
    "using Microsoft.Crm.Sdk.Messages;\n",
    "using Microsoft.Data.Analysis;\n",
    "using System.Text.Json;\n",
    "using System.Runtime.Caching;\n",
    "using static Microsoft.DotNet.Interactive.Formatting.PocketViewTags;\n",
    "using Microsoft.ML;"
   ]
  },
  {
   "cell_type": "markdown",
   "metadata": {},
   "source": [
    "The first step is to get the environment URL from the user. Visual Studio Code will prompt you for an environment URL when you run the next block. Provide an environment URL. Once the URL is provided, Azure Identity SDK can be used to get the token based on the current logged in user in VSCode. This user needs to have access to both Azure and Power Apps environment. DataverseClient will use Azure Identity SDK to retrieve the token. The client is now authenticated."
   ]
  },
  {
   "cell_type": "code",
   "execution_count": null,
   "metadata": {
    "dotnet_interactive": {
     "language": "csharp"
    }
   },
   "outputs": [],
   "source": [
    "var environment = await GetInputAsync(\"Enter Power Apps Environment URL. e.g. https://org.crm.dynamics.com\");\n",
    "ObjectCache cache = MemoryCache.Default;\n",
    "\n",
    "var managedIdentity = new DefaultAzureCredential();\n",
    "var client = new ServiceClient(\n",
    "    tokenProviderFunction: f => GetToken(environment, managedIdentity, cache),\n",
    "    instanceUrl: new Uri(environment));\n",
    "\n",
    "\n",
    "private async Task<string> GetToken(string environment, DefaultAzureCredential credential, ObjectCache cache)\n",
    "{\n",
    "    //TokenProviderFunction is called multiple times, so we need to check if we already have a token in the cache\n",
    "\tvar accessToken = cache.Get(environment);\n",
    "\tif (accessToken == null)\n",
    "\t{\n",
    "\t\taccessToken = (await credential.GetTokenAsync(new TokenRequestContext(new[] { $\"{environment}/.default\" })));\n",
    "\t\tcache.Set(environment, accessToken, new CacheItemPolicy { SlidingExpiration = TimeSpan.FromMinutes(50) });\n",
    "\t}\n",
    "\telse\n",
    "\t{\n",
    "\t\tWriteLine($\"Getting token from cache: Expires: {((AccessToken)accessToken).ExpiresOn.ToLocalTime().ToString(\"s\")}, {((AccessToken)accessToken).Token}\");\n",
    "\t}\n",
    "\treturn ((AccessToken)accessToken).Token;\n",
    "}"
   ]
  },
  {
   "cell_type": "markdown",
   "metadata": {},
   "source": [
    "Since the `ServiceClient` is now authenticated, we can easily use this for all Dataverse calls."
   ]
  },
  {
   "cell_type": "code",
   "execution_count": null,
   "metadata": {
    "dotnet_interactive": {
     "language": "csharp"
    }
   },
   "outputs": [],
   "source": [
    "$\"Tenant: {client.OrganizationDetail.TenantId}\\nOrganizationId: {client.OrganizationDetail.OrganizationId}\\nFriendlyName: {client.OrganizationDetail.FriendlyName}\""
   ]
  },
  {
   "cell_type": "markdown",
   "metadata": {},
   "source": [
    "Now let us try to get some metadata."
   ]
  },
  {
   "cell_type": "code",
   "execution_count": null,
   "metadata": {
    "dotnet_interactive": {
     "language": "csharp"
    }
   },
   "outputs": [
    {
     "data": {
      "text/plain": [
       "[{\"ColumnNumber\":1,\"LogicalName\":\"systemuserid\",\"DisplayName\":\"User\"},{\"ColumnNumber\":3,\"LogicalName\":\"territoryid\",\"DisplayName\":\"Territory\"},{\"ColumnNumber\":4,\"LogicalName\":\"organizationid\",\"DisplayName\":\"Organization \"},{\"ColumnNumber\":5,\"LogicalName\":\"businessunitid\",\"DisplayName\":\"Business Unit\"},{\"ColumnNumber\":6,\"LogicalName\":\"parentsystemuserid\",\"DisplayName\":\"Manager\"},{\"ColumnNumber\":7,\"LogicalName\":\"firstname\",\"DisplayName\":\"First Name\"},{\"ColumnNumber\":8,\"LogicalName\":\"salutation\",\"DisplayName\":\"Salutation\"},{\"ColumnNumber\":9,\"LogicalName\":\"middlename\",\"DisplayName\":\"Middle Name\"},{\"ColumnNumber\":10,\"LogicalName\":\"lastname\",\"DisplayName\":\"Last Name\"},{\"ColumnNumber\":11,\"LogicalName\":\"personalemailaddress\",\"DisplayName\":\"Email 2\"},{\"ColumnNumber\":12,\"LogicalName\":\"fullname\",\"DisplayName\":\"Full Name\"},{\"ColumnNumber\":13,\"LogicalName\":\"nickname\",\"DisplayName\":\"Nickname\"},{\"ColumnNumber\":14,\"LogicalName\":\"title\",\"DisplayName\":\"Title\"},{\"ColumnNumber\":15,\"LogicalName\":\"internalemailaddress\",\"DisplayName\":\"Primary Email\"},{\"ColumnNumber\":16,\"LogicalName\":\"jobtitle\",\"DisplayName\":\"Job Title\"},{\"ColumnNumber\":17,\"LogicalName\":\"mobilealertemail\",\"DisplayName\":\"Mobile Alert Email\"},{\"ColumnNumber\":18,\"LogicalName\":\"preferredemailcode\",\"DisplayName\":\"Preferred Email\"},{\"ColumnNumber\":19,\"LogicalName\":\"homephone\",\"DisplayName\":\"Home Phone\"},{\"ColumnNumber\":20,\"LogicalName\":\"mobilephone\",\"DisplayName\":\"Mobile Phone\"},{\"ColumnNumber\":21,\"LogicalName\":\"preferredphonecode\",\"DisplayName\":\"Preferred Phone\"},{\"ColumnNumber\":22,\"LogicalName\":\"preferredaddresscode\",\"DisplayName\":\"Preferred Address\"},{\"ColumnNumber\":23,\"LogicalName\":\"photourl\",\"DisplayName\":\"Photo URL\"},{\"ColumnNumber\":24,\"LogicalName\":\"domainname\",\"DisplayName\":\"User Name\"},{\"ColumnNumber\":25,\"LogicalName\":\"passportlo\",\"DisplayName\":\"Passport Lo\"},{\"ColumnNumber\":26,\"LogicalName\":\"createdon\",\"DisplayName\":\"Created On\"},{\"ColumnNumber\":27,\"LogicalName\":\"passporthi\",\"DisplayName\":\"Passport Hi\"},{\"ColumnNumber\":28,\"LogicalName\":\"disabledreason\",\"DisplayName\":\"Disabled Reason\"},{\"ColumnNumber\":29,\"LogicalName\":\"modifiedon\",\"DisplayName\":\"Modified On\"},{\"ColumnNumber\":31,\"LogicalName\":\"createdby\",\"DisplayName\":\"Created By\"},{\"ColumnNumber\":32,\"LogicalName\":\"employeeid\",\"DisplayName\":\"Employee\"},{\"ColumnNumber\":33,\"LogicalName\":\"modifiedby\",\"DisplayName\":\"Modified By\"},{\"ColumnNumber\":34,\"LogicalName\":\"isdisabled\",\"DisplayName\":\"Status\"},{\"ColumnNumber\":35,\"LogicalName\":\"governmentid\",\"DisplayName\":\"Government\"},{\"ColumnNumber\":36,\"LogicalName\":\"versionnumber\",\"DisplayName\":\"Version number\"},{\"ColumnNumber\":37,\"LogicalName\":\"parentsystemuseridname\",\"DisplayName\":\"\"},{\"ColumnNumber\":39,\"LogicalName\":\"territoryidname\",\"DisplayName\":\"\"},{\"ColumnNumber\":41,\"LogicalName\":\"address1_addressid\",\"DisplayName\":\"Address 1: ID\"},{\"ColumnNumber\":42,\"LogicalName\":\"address1_addresstypecode\",\"DisplayName\":\"Address 1: Address Type\"},{\"ColumnNumber\":43,\"LogicalName\":\"address1_name\",\"DisplayName\":\"Address 1: Name\"},{\"ColumnNumber\":44,\"LogicalName\":\"address1_line1\",\"DisplayName\":\"Street 1\"},{\"ColumnNumber\":45,\"LogicalName\":\"address1_line2\",\"DisplayName\":\"Street 2\"},{\"ColumnNumber\":46,\"LogicalName\":\"address1_line3\",\"DisplayName\":\"Street 3\"},{\"ColumnNumber\":47,\"LogicalName\":\"address1_city\",\"DisplayName\":\"City\"},{\"ColumnNumber\":48,\"LogicalName\":\"address1_stateorprovince\",\"DisplayName\":\"State/Province\"},{\"ColumnNumber\":49,\"LogicalName\":\"address1_county\",\"DisplayName\":\"Address 1: County\"},{\"ColumnNumber\":50,\"LogicalName\":\"address1_country\",\"DisplayName\":\"Country/Region\"},{\"ColumnNumber\":51,\"LogicalName\":\"address1_postofficebox\",\"DisplayName\":\"Address 1: Post Office Box\"},{\"ColumnNumber\":52,\"LogicalName\":\"address1_postalcode\",\"DisplayName\":\"ZIP/Postal Code\"},{\"ColumnNumber\":53,\"LogicalName\":\"address1_utcoffset\",\"DisplayName\":\"Address 1: UTC Offset\"},{\"ColumnNumber\":54,\"LogicalName\":\"address1_upszone\",\"DisplayName\":\"Address 1: UPS Zone\"},{\"ColumnNumber\":55,\"LogicalName\":\"address1_latitude\",\"DisplayName\":\"Address 1: Latitude\"},{\"ColumnNumber\":56,\"LogicalName\":\"address1_telephone1\",\"DisplayName\":\"Main Phone\"},{\"ColumnNumber\":57,\"LogicalName\":\"address1_longitude\",\"DisplayName\":\"Address 1: Longitude\"},{\"ColumnNumber\":58,\"LogicalName\":\"address1_shippingmethodcode\",\"DisplayName\":\"Address 1: Shipping Method\"},{\"ColumnNumber\":59,\"LogicalName\":\"address1_telephone2\",\"DisplayName\":\"Other Phone\"},{\"ColumnNumber\":60,\"LogicalName\":\"address1_telephone3\",\"DisplayName\":\"Pager\"},{\"ColumnNumber\":61,\"LogicalName\":\"address1_fax\",\"DisplayName\":\"Address 1: Fax\"},{\"ColumnNumber\":62,\"LogicalName\":\"address2_addressid\",\"DisplayName\":\"Address 2: ID\"},{\"ColumnNumber\":63,\"LogicalName\":\"address2_addresstypecode\",\"DisplayName\":\"Address 2: Address Type\"},{\"ColumnNumber\":64,\"LogicalName\":\"address2_name\",\"DisplayName\":\"Address 2: Name\"},{\"ColumnNumber\":65,\"LogicalName\":\"address2_line1\",\"DisplayName\":\"Other Street 1\"},{\"ColumnNumber\":66,\"LogicalName\":\"address2_line2\",\"DisplayName\":\"Other Street 2\"},{\"ColumnNumber\":67,\"LogicalName\":\"address2_line3\",\"DisplayName\":\"Other Street 3\"},{\"ColumnNumber\":68,\"LogicalName\":\"address2_city\",\"DisplayName\":\"Other City\"},{\"ColumnNumber\":69,\"LogicalName\":\"address2_stateorprovince\",\"DisplayName\":\"Other State/Province\"},{\"ColumnNumber\":70,\"LogicalName\":\"address2_county\",\"DisplayName\":\"Address 2: County\"},{\"ColumnNumber\":71,\"LogicalName\":\"address2_country\",\"DisplayName\":\"Other Country/Region\"},{\"ColumnNumber\":72,\"LogicalName\":\"address2_postofficebox\",\"DisplayName\":\"Address 2: Post Office Box\"},{\"ColumnNumber\":73,\"LogicalName\":\"address2_postalcode\",\"DisplayName\":\"Other ZIP/Postal Code\"},{\"ColumnNumber\":74,\"LogicalName\":\"address2_utcoffset\",\"DisplayName\":\"Address 2: UTC Offset\"},{\"ColumnNumber\":75,\"LogicalName\":\"address2_upszone\",\"DisplayName\":\"Address 2: UPS Zone\"},{\"ColumnNumber\":76,\"LogicalName\":\"address2_latitude\",\"DisplayName\":\"Address 2: Latitude\"},{\"ColumnNumber\":77,\"LogicalName\":\"address2_telephone1\",\"DisplayName\":\"Address 2: Telephone 1\"},{\"ColumnNumber\":78,\"LogicalName\":\"address2_longitude\",\"DisplayName\":\"Address 2: Longitude\"},{\"ColumnNumber\":79,\"LogicalName\":\"address2_shippingmethodcode\",\"DisplayName\":\"Address 2: Shipping Method\"},{\"ColumnNumber\":80,\"LogicalName\":\"address2_telephone2\",\"DisplayName\":\"Address 2: Telephone 2\"},{\"ColumnNumber\":81,\"LogicalName\":\"address2_telephone3\",\"DisplayName\":\"Address 2: Telephone 3\"},{\"ColumnNumber\":82,\"LogicalName\":\"address2_fax\",\"DisplayName\":\"Address 2: Fax\"},{\"ColumnNumber\":83,\"LogicalName\":\"createdbyname\",\"DisplayName\":\"\"},{\"ColumnNumber\":85,\"LogicalName\":\"modifiedbyname\",\"DisplayName\":\"\"},{\"ColumnNumber\":87,\"LogicalName\":\"businessunitidname\",\"DisplayName\":\"\"},{\"ColumnNumber\":89,\"LogicalName\":\"organizationidname\",\"DisplayName\":\"\"},{\"ColumnNumber\":91,\"LogicalName\":\"isdisabledname\",\"DisplayName\":\"\"},{\"ColumnNumber\":92,\"LogicalName\":\"preferredphonecodename\",\"DisplayName\":\"\"},{\"ColumnNumber\":93,\"LogicalName\":\"preferredemailcodename\",\"DisplayName\":\"\"},{\"ColumnNumber\":94,\"LogicalName\":\"preferredaddresscodename\",\"DisplayName\":\"\"},{\"ColumnNumber\":95,\"LogicalName\":\"address2_shippingmethodcodename\",\"DisplayName\":\"\"},{\"ColumnNumber\":96,\"LogicalName\":\"address1_addresstypecodename\",\"DisplayName\":\"\"},{\"ColumnNumber\":97,\"LogicalName\":\"address2_addresstypecodename\",\"DisplayName\":\"\"},{\"ColumnNumber\":98,\"LogicalName\":\"address1_shippingmethodcodename\",\"DisplayName\":\"\"},{\"ColumnNumber\":99,\"LogicalName\":\"skills\",\"DisplayName\":\"Skills\"},{\"ColumnNumber\":100,\"LogicalName\":\"displayinserviceviews\",\"DisplayName\":\"Display in Service Views\"},{\"ColumnNumber\":101,\"LogicalName\":\"calendarid\",\"DisplayName\":\"Calendar\"},{\"ColumnNumber\":102,\"LogicalName\":\"activedirectoryguid\",\"DisplayName\":\"Active Directory Guid\"},{\"ColumnNumber\":103,\"LogicalName\":\"setupuser\",\"DisplayName\":\"Restricted Access Mode\"},{\"ColumnNumber\":104,\"LogicalName\":\"siteid\",\"DisplayName\":\"Site\"},{\"ColumnNumber\":105,\"LogicalName\":\"siteidname\",\"DisplayName\":\"\"},{\"ColumnNumber\":107,\"LogicalName\":\"setupusername\",\"DisplayName\":\"\"},{\"ColumnNumber\":108,\"LogicalName\":\"displayinserviceviewsname\",\"DisplayName\":\"\"},{\"ColumnNumber\":109,\"LogicalName\":\"windowsliveid\",\"DisplayName\":\"Windows Live ID\"},{\"ColumnNumber\":110,\"LogicalName\":\"incomingemaildeliverymethod\",\"DisplayName\":\"Incoming Email Delivery Method\"},{\"ColumnNumber\":111,\"LogicalName\":\"outgoingemaildeliverymethod\",\"DisplayName\":\"Outgoing Email Delivery Method\"},{\"ColumnNumber\":112,\"LogicalName\":\"importsequencenumber\",\"DisplayName\":\"Import Sequence Number\"},{\"ColumnNumber\":113,\"LogicalName\":\"accessmode\",\"DisplayName\":\"Access Mode\"},{\"ColumnNumber\":114,\"LogicalName\":\"invitestatuscode\",\"DisplayName\":\"Invitation Status\"},{\"ColumnNumber\":115,\"LogicalName\":\"isactivedirectoryuser\",\"DisplayName\":\"Is Active Directory User\"},{\"ColumnNumber\":116,\"LogicalName\":\"overriddencreatedon\",\"DisplayName\":\"Record Created On\"},{\"ColumnNumber\":117,\"LogicalName\":\"utcconversiontimezonecode\",\"DisplayName\":\"UTC Conversion Time Zone Code\"},{\"ColumnNumber\":118,\"LogicalName\":\"timezoneruleversionnumber\",\"DisplayName\":\"Time Zone Rule Version Number\"},{\"ColumnNumber\":119,\"LogicalName\":\"accessmodename\",\"DisplayName\":\"\"},{\"ColumnNumber\":120,\"LogicalName\":\"incomingemaildeliverymethodname\",\"DisplayName\":\"\"},{\"ColumnNumber\":121,\"LogicalName\":\"outgoingemaildeliverymethodname\",\"DisplayName\":\"\"},{\"ColumnNumber\":122,\"LogicalName\":\"invitestatuscodename\",\"DisplayName\":\"\"},{\"ColumnNumber\":123,\"LogicalName\":\"parentsystemuseridyominame\",\"DisplayName\":\"\"},{\"ColumnNumber\":124,\"LogicalName\":\"yomifullname\",\"DisplayName\":\"Yomi Full Name\"},{\"ColumnNumber\":125,\"LogicalName\":\"modifiedbyyominame\",\"DisplayName\":\"\"},{\"ColumnNumber\":126,\"LogicalName\":\"yomilastname\",\"DisplayName\":\"Yomi Last Name\"},{\"ColumnNumber\":127,\"LogicalName\":\"createdbyyominame\",\"DisplayName\":\"\"},{\"ColumnNumber\":128,\"LogicalName\":\"yomimiddlename\",\"DisplayName\":\"Yomi Middle Name\"},{\"ColumnNumber\":129,\"LogicalName\":\"yomifirstname\",\"DisplayName\":\"Yomi First Name\"},{\"ColumnNumber\":130,\"LogicalName\":\"isintegrationuser\",\"DisplayName\":\"Integration user mode\"},{\"ColumnNumber\":131,\"LogicalName\":\"defaultfilterspopulated\",\"DisplayName\":\"Default Filters Populated\"},{\"ColumnNumber\":132,\"LogicalName\":\"isintegrationusername\",\"DisplayName\":\"\"},{\"ColumnNumber\":133,\"LogicalName\":\"createdonbehalfby\",\"DisplayName\":\"Created By (Delegate)\"},{\"ColumnNumber\":135,\"LogicalName\":\"queueid\",\"DisplayName\":\"Default Queue\"},{\"ColumnNumber\":136,\"LogicalName\":\"queueidname\",\"DisplayName\":\"\"},{\"ColumnNumber\":137,\"LogicalName\":\"modifiedonbehalfby\",\"DisplayName\":\"Modified By (Delegate)\"},{\"ColumnNumber\":139,\"LogicalName\":\"modifiedonbehalfbyname\",\"DisplayName\":\"\"},{\"ColumnNumber\":140,\"LogicalName\":\"modifiedonbehalfbyyominame\",\"DisplayName\":\"\"},{\"ColumnNumber\":141,\"LogicalName\":\"createdonbehalfbyname\",\"DisplayName\":\"\"},{\"ColumnNumber\":142,\"LogicalName\":\"createdonbehalfbyyominame\",\"DisplayName\":\"\"},{\"ColumnNumber\":143,\"LogicalName\":\"emailrouteraccessapproval\",\"DisplayName\":\"Primary Email Status\"},{\"ColumnNumber\":144,\"LogicalName\":\"emailrouteraccessapprovalname\",\"DisplayName\":\"\"},{\"ColumnNumber\":145,\"LogicalName\":\"transactioncurrencyid\",\"DisplayName\":\"Currency\"},{\"ColumnNumber\":146,\"LogicalName\":\"transactioncurrencyidname\",\"DisplayName\":\"\"},{\"ColumnNumber\":147,\"LogicalName\":\"exchangerate\",\"DisplayName\":\"Exchange Rate\"},{\"ColumnNumber\":148,\"LogicalName\":\"caltype\",\"DisplayName\":\"License Type\"},{\"ColumnNumber\":149,\"LogicalName\":\"caltypename\",\"DisplayName\":\"\"},{\"ColumnNumber\":150,\"LogicalName\":\"islicensed\",\"DisplayName\":\"User Licensed\"},{\"ColumnNumber\":151,\"LogicalName\":\"issyncwithdirectory\",\"DisplayName\":\"User Synced\"},{\"ColumnNumber\":152,\"LogicalName\":\"yammeremailaddress\",\"DisplayName\":\"Yammer Email\"},{\"ColumnNumber\":153,\"LogicalName\":\"defaultmailboxname\",\"DisplayName\":\"\"},{\"ColumnNumber\":154,\"LogicalName\":\"yammeruserid\",\"DisplayName\":\"Yammer User ID\"},{\"ColumnNumber\":155,\"LogicalName\":\"defaultmailbox\",\"DisplayName\":\"Mailbox\"},{\"ColumnNumber\":156,\"LogicalName\":\"userlicensetype\",\"DisplayName\":\"User License Type\"},{\"ColumnNumber\":157,\"LogicalName\":\"entityimageid\",\"DisplayName\":\"Entity Image Id\"},{\"ColumnNumber\":158,\"LogicalName\":\"entityimage\",\"DisplayName\":\"Entity Image\"},{\"ColumnNumber\":159,\"LogicalName\":\"entityimage_url\",\"DisplayName\":\"\"},{\"ColumnNumber\":160,\"LogicalName\":\"address2_composite\",\"DisplayName\":\"Other Address\"},{\"ColumnNumber\":161,\"LogicalName\":\"address1_composite\",\"DisplayName\":\"Address\"},{\"ColumnNumber\":162,\"LogicalName\":\"processid\",\"DisplayName\":\"Process\"},{\"ColumnNumber\":163,\"LogicalName\":\"stageid\",\"DisplayName\":\"(Deprecated) Process Stage\"},{\"ColumnNumber\":164,\"LogicalName\":\"entityimage_timestamp\",\"DisplayName\":\"\"},{\"ColumnNumber\":165,\"LogicalName\":\"isemailaddressapprovedbyo365admin\",\"DisplayName\":\"Email Address O365 Admin Approval Status\"},{\"ColumnNumber\":170,\"LogicalName\":\"positionid\",\"DisplayName\":\"Position\"},{\"ColumnNumber\":171,\"LogicalName\":\"positionidname\",\"DisplayName\":\"\"},{\"ColumnNumber\":172,\"LogicalName\":\"traversedpath\",\"DisplayName\":\"(Deprecated) Traversed Path\"},{\"ColumnNumber\":173,\"LogicalName\":\"sharepointemailaddress\",\"DisplayName\":\"SharePoint Email Address\"},{\"ColumnNumber\":174,\"LogicalName\":\"mobileofflineprofileid\",\"DisplayName\":\"Mobile Offline Profile\"},{\"ColumnNumber\":175,\"LogicalName\":\"mobileofflineprofileidname\",\"DisplayName\":\"\"},{\"ColumnNumber\":181,\"LogicalName\":\"defaultodbfoldername\",\"DisplayName\":\"Default OneDrive for Business Folder Name\"},{\"ColumnNumber\":182,\"LogicalName\":\"applicationid\",\"DisplayName\":\"Application ID\"},{\"ColumnNumber\":183,\"LogicalName\":\"applicationiduri\",\"DisplayName\":\"Application ID URI\"},{\"ColumnNumber\":184,\"LogicalName\":\"azureactivedirectoryobjectid\",\"DisplayName\":\"Azure AD Object ID\"},{\"ColumnNumber\":185,\"LogicalName\":\"identityid\",\"DisplayName\":\"Unique user identity id\"},{\"ColumnNumber\":186,\"LogicalName\":\"latestupdatetime\",\"DisplayName\":\"Latest User Update Time\"},{\"ColumnNumber\":187,\"LogicalName\":\"userpuid\",\"DisplayName\":\"User PUID\"},{\"ColumnNumber\":188,\"LogicalName\":\"islicensedname\",\"DisplayName\":\"\"},{\"ColumnNumber\":10001,\"LogicalName\":\"msdyn_gdproptout\",\"DisplayName\":\"GDPR Optout\"},{\"ColumnNumber\":10002,\"LogicalName\":\"msdyn_gdproptoutname\",\"DisplayName\":\"\"},{\"ColumnNumber\":10003,\"LogicalName\":\"deletedstate\",\"DisplayName\":\"Deleted State\"},{\"ColumnNumber\":10004,\"LogicalName\":\"deletedstatename\",\"DisplayName\":\"\"}]"
      ]
     },
     "metadata": {},
     "output_type": "display_data"
    }
   ],
   "source": [
    "var entities = client.GetEntityMetadata(\"systemuser\", EntityFilters.Attributes);\n",
    "var attributes = entities.Attributes.Select(x=>new {x.ColumnNumber, x.LogicalName, DisplayName = x.DisplayName.UserLocalizedLabel?.Label ?? \"\"}).OrderBy(x=>x.ColumnNumber);\n",
    "JsonSerializer.Serialize(attributes) //We need to serialise so that it can be rendered by Data Table extension as a scrollable table. It will use the default formatter otherwise, which does not scroll."
   ]
  },
  {
   "cell_type": "markdown",
   "metadata": {},
   "source": [
    "Now let us try some messages. For example, `RetrieveTotalRecordCountRequest` which gives us the table count (snapshot)."
   ]
  },
  {
   "cell_type": "code",
   "execution_count": null,
   "metadata": {
    "dotnet_interactive": {
     "language": "csharp"
    }
   },
   "outputs": [
    {
     "data": {
      "text/plain": [
       "[{\"Key\":\"account\",\"Value\":107},{\"Key\":\"contact\",\"Value\":63},{\"Key\":\"systemuser\",\"Value\":93}]"
      ]
     },
     "metadata": {},
     "output_type": "display_data"
    }
   ],
   "source": [
    "var recordCountResponse = ((RetrieveTotalRecordCountResponse)client.Execute(new RetrieveTotalRecordCountRequest\n",
    "{\n",
    "    EntityNames = new string[] { \"account\", \"contact\", \"systemuser\" }\n",
    "})).EntityRecordCountCollection;\n",
    "JsonSerializer.Serialize(recordCountResponse) //We need to serialise so that it can be rendered by Data Table extension as a scrollable table. It will use the default formatter otherwise, which does not scroll."
   ]
  },
  {
   "cell_type": "markdown",
   "metadata": {},
   "source": [
    "[PowerPlatform-DataverseServiceClient](https://github.com/microsoft/PowerPlatform-DataverseServiceClient) is still in preview. So, don't use it in production yet. But, it is great to use for data wrangling and some quick fixes to your Dataverse environment. I use it in my [Dataverse LINQPad Driver](https://github.com/rajyraman/Dataverse-LINQPad-Driver) as well.\n",
    "\n",
    "Happy building.\n",
    "\n",
    "[Natraj](https://twitter.com/rajyraman)"
   ]
  }
 ],
 "metadata": {
  "kernelspec": {
   "display_name": ".NET (C#)",
   "language": "C#",
   "name": ".net-csharp"
  },
  "language_info": {
   "file_extension": ".cs",
   "mimetype": "text/x-csharp",
   "name": "C#",
   "pygments_lexer": "csharp",
   "version": "9.0"
  },
  "orig_nbformat": 4
 },
 "nbformat": 4,
 "nbformat_minor": 2
}
