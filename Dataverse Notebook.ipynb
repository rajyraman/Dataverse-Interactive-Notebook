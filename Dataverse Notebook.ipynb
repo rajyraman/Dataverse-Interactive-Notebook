{
 "cells": [
  {
   "cell_type": "markdown",
   "metadata": {},
   "source": [
    "# Dataverse Interactive Notebook\n",
    "\n",
    "This notebook demonstrates how you can use interactive notebooks with PowerPlatform .net core assembly"
   ]
  },
  {
   "cell_type": "code",
   "execution_count": null,
   "metadata": {
    "dotnet_interactive": {
     "language": "csharp"
    }
   },
   "outputs": [],
   "source": [
    "#r \"nuget:Microsoft.PowerPlatform.Dataverse.Client,*-*\"\n",
    "#r \"nuget:Azure.Identity,*-*\"\n",
    "#r \"nuget:Microsoft.DotNet.Interactive.ExtensionLab,*-*\"\n",
    "\n",
    "using System;\n",
    "using System.Linq;\n",
    "using System.Collections;\n",
    "using System.Collections.Generic;\n",
    "using Azure.Core;\n",
    "using Azure.Identity;\n",
    "using Microsoft.PowerPlatform.Dataverse.Client;\n",
    "using Microsoft.Xrm.Sdk;\n",
    "using Microsoft.Xrm.Sdk.Metadata;\n",
    "using Microsoft.Crm.Sdk.Messages;"
   ]
  },
  {
   "cell_type": "markdown",
   "metadata": {},
   "source": [
    "The first step is to get the environment URL from the user. Visual Studio Code will prompt you for an environment URL when you run the next block. Provide an environment URL. Once the URL is provided, Azure Identity SDK can be used to get the token based on the current logged in user in VSCode. This user needs to have access to both Azure and Power Apps environment. DataverseClient will use Azure Identity SDK to retrieve the token. The client is now authenticated."
   ]
  },
  {
   "cell_type": "code",
   "execution_count": null,
   "metadata": {
    "dotnet_interactive": {
     "language": "csharp"
    }
   },
   "outputs": [],
   "source": [
    "var environment = await GetInputAsync(\"Enter Power Apps Environment URL. e.g. https://org.crm.dynamics.com\");\n",
    "var managedIdentity = new DefaultAzureCredential();\n",
    "var client = new ServiceClient(tokenProviderFunction: async u =>\n",
    "    (await managedIdentity.GetTokenAsync(\n",
    "        new TokenRequestContext(new[] { $\"{environment}/.default\" }))).Token, \n",
    "        instanceUrl: new Uri(environment));"
   ]
  },
  {
   "cell_type": "markdown",
   "metadata": {},
   "source": [
    "Since the `ServiceClient` is now authenticated, we can easily use this for all Dataverse calls."
   ]
  },
  {
   "cell_type": "code",
   "execution_count": null,
   "metadata": {
    "dotnet_interactive": {
     "language": "csharp"
    }
   },
   "outputs": [],
   "source": [
    "display($\"Tenant: {client.OrganizationDetail.TenantId}\\nOrganizationId: {client.OrganizationDetail.OrganizationId}\\nFriendlyName: {client.OrganizationDetail.FriendlyName}\");"
   ]
  },
  {
   "cell_type": "markdown",
   "metadata": {},
   "source": [
    "Now let us try to get some metadata."
   ]
  },
  {
   "cell_type": "code",
   "execution_count": null,
   "metadata": {
    "dotnet_interactive": {
     "language": "csharp"
    }
   },
   "outputs": [
    {
     "data": {
      "text/html": [
       "<table><thead><tr><th><i>index</i></th><th>ColumnNumber</th><th>LogicalName</th><th>DisplayName</th></tr></thead><tbody><tr><td>0</td><td><div class=\"dni-plaintext\">1</div></td><td>systemuserid</td><td>User</td></tr><tr><td>1</td><td><div class=\"dni-plaintext\">3</div></td><td>territoryid</td><td>Territory</td></tr><tr><td>2</td><td><div class=\"dni-plaintext\">4</div></td><td>organizationid</td><td>Organization </td></tr><tr><td>3</td><td><div class=\"dni-plaintext\">5</div></td><td>businessunitid</td><td>Business Unit</td></tr><tr><td>4</td><td><div class=\"dni-plaintext\">6</div></td><td>parentsystemuserid</td><td>Manager</td></tr><tr><td>5</td><td><div class=\"dni-plaintext\">7</div></td><td>firstname</td><td>First Name</td></tr><tr><td>6</td><td><div class=\"dni-plaintext\">8</div></td><td>salutation</td><td>Salutation</td></tr><tr><td>7</td><td><div class=\"dni-plaintext\">9</div></td><td>middlename</td><td>Middle Name</td></tr><tr><td>8</td><td><div class=\"dni-plaintext\">10</div></td><td>lastname</td><td>Last Name</td></tr><tr><td>9</td><td><div class=\"dni-plaintext\">11</div></td><td>personalemailaddress</td><td>Email 2</td></tr><tr><td>10</td><td><div class=\"dni-plaintext\">12</div></td><td>fullname</td><td>Full Name</td></tr><tr><td>11</td><td><div class=\"dni-plaintext\">13</div></td><td>nickname</td><td>Nickname</td></tr><tr><td>12</td><td><div class=\"dni-plaintext\">14</div></td><td>title</td><td>Title</td></tr><tr><td>13</td><td><div class=\"dni-plaintext\">15</div></td><td>internalemailaddress</td><td>Primary Email</td></tr><tr><td>14</td><td><div class=\"dni-plaintext\">16</div></td><td>jobtitle</td><td>Job Title</td></tr><tr><td>15</td><td><div class=\"dni-plaintext\">17</div></td><td>mobilealertemail</td><td>Mobile Alert Email</td></tr><tr><td>16</td><td><div class=\"dni-plaintext\">18</div></td><td>preferredemailcode</td><td>Preferred Email</td></tr><tr><td>17</td><td><div class=\"dni-plaintext\">19</div></td><td>homephone</td><td>Home Phone</td></tr><tr><td>18</td><td><div class=\"dni-plaintext\">20</div></td><td>mobilephone</td><td>Mobile Phone</td></tr><tr><td>19</td><td><div class=\"dni-plaintext\">21</div></td><td>preferredphonecode</td><td>Preferred Phone</td></tr><tr><td colspan=\"4\">(152 more)</td></tr></tbody></table>"
      ]
     },
     "metadata": {},
     "output_type": "display_data"
    }
   ],
   "source": [
    "var entities = client.GetEntityMetadata(\"systemuser\", EntityFilters.Attributes);\n",
    "display(entities.Attributes.Select(x=>new {x.ColumnNumber, x.LogicalName, DisplayName = x.DisplayName.UserLocalizedLabel?.Label ?? \"\"}).OrderBy(x=>x.ColumnNumber));"
   ]
  },
  {
   "cell_type": "markdown",
   "metadata": {},
   "source": [
    "Now let us try some messages. For example, `RetrieveTotalRecordCountRequest` which gives us the table count (snapshot)."
   ]
  },
  {
   "cell_type": "code",
   "execution_count": null,
   "metadata": {
    "dotnet_interactive": {
     "language": "csharp"
    }
   },
   "outputs": [
    {
     "data": {
      "text/html": [
       "<table><thead><tr><th><i>index</i></th><th>Key</th><th>Value</th></tr></thead><tbody><tr><td>0</td><td>account</td><td><div class=\"dni-plaintext\">107</div></td></tr><tr><td>1</td><td>contact</td><td><div class=\"dni-plaintext\">63</div></td></tr><tr><td>2</td><td>systemuser</td><td><div class=\"dni-plaintext\">93</div></td></tr></tbody></table>"
      ]
     },
     "metadata": {},
     "output_type": "display_data"
    }
   ],
   "source": [
    "var recordCountResponse = ((RetrieveTotalRecordCountResponse)client.Execute(new RetrieveTotalRecordCountRequest\n",
    "{\n",
    "    EntityNames = new string[] { \"account\", \"contact\", \"systemuser\" }\n",
    "})).EntityRecordCountCollection;\n",
    "display(recordCountResponse);"
   ]
  },
  {
   "cell_type": "markdown",
   "metadata": {},
   "source": [
    "[PowerPlatform-DataverseServiceClient](https://github.com/microsoft/PowerPlatform-DataverseServiceClient) is still in preview. So, don't use it in production yet. But, it is great to use for data wrangling and some quick fixes to your Dataverse environment. I use it in my [Dataverse LINQPad Driver](https://github.com/rajyraman/Dataverse-LINQPad-Driver) as well.\n",
    "\n",
    "Happy building.\n",
    "\n",
    "[Natraj](https://twitter.com/rajyraman)"
   ]
  }
 ],
 "metadata": {
  "kernelspec": {
   "display_name": ".NET (C#)",
   "language": "C#",
   "name": ".net-csharp"
  },
  "language_info": {
   "file_extension": ".cs",
   "mimetype": "text/x-csharp",
   "name": "C#",
   "pygments_lexer": "csharp",
   "version": "9.0"
  },
  "orig_nbformat": 4
 },
 "nbformat": 4,
 "nbformat_minor": 2
}
