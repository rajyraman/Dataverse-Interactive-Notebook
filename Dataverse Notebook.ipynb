{
 "cells": [
  {
   "cell_type": "markdown",
   "metadata": {},
   "source": [
    "# Pre-requisites\n",
    "\n",
    "1. Install [.NET 5](https://dotnet.microsoft.com/download/dotnet/5.0)\n",
    "2. Install [.NET Interactive Notebooks](https://marketplace.visualstudio.com/items?itemName=ms-dotnettools.dotnet-interactive-vscode) extension\n",
    "3. Install [.NET Install Tool for Extension Authors](https://marketplace.visualstudio.com/items?itemName=ms-dotnettools.dotnet-interactive-vscode) extension\n",
    "4. Install [Data Table](https://marketplace.visualstudio.com/items?itemName=RandomFractalsInc.vscode-data-table) extension\n",
    "5. Login into your Azure account on [Azure Account](https://marketplace.visualstudio.com/items?itemName=ms-vscode.azure-account) extension\n",
    "6. Confirm that the Azure account you use to login can access your Power Apps environment"
   ]
  },
  {
   "cell_type": "markdown",
   "metadata": {},
   "source": [
    "# Dataverse Interactive Notebook\n",
    "\n",
    "This notebook demonstrates how you can use interactive notebooks with PowerPlatform .net core assembly"
   ]
  },
  {
   "cell_type": "code",
   "execution_count": null,
   "metadata": {
    "dotnet_interactive": {
     "language": "csharp"
    }
   },
   "outputs": [],
   "source": [
    "#r \"nuget:Microsoft.PowerPlatform.Dataverse.Client,*-*\"\n",
    "#r \"nuget:Azure.Identity,*-*\"\n",
    "#r \"nuget:Microsoft.DotNet.Interactive.ExtensionLab,*-*\"\n",
    "#r \"nuget:Microsoft.Data.Analysis,*-*\"\n",
    "#r \"nuget:Microsoft.DotNet.Interactive.ExtensionLab,*-*\"\n",
    "#r \"nuget: System.Runtime.Caching,*-*\"\n",
    "\n",
    "using Microsoft.DotNet.Interactive.Formatting;\n",
    "using static System.Console;\n",
    "using System.Linq;\n",
    "using System.Collections;\n",
    "using System.Collections.Generic;\n",
    "using Azure.Core;\n",
    "using Azure.Identity;\n",
    "using Microsoft.PowerPlatform.Dataverse.Client;\n",
    "using Microsoft.Xrm.Sdk;\n",
    "using Microsoft.Xrm.Sdk.Metadata;\n",
    "using Microsoft.Crm.Sdk.Messages;\n",
    "using Microsoft.Data.Analysis;\n",
    "using System.Text.Json;\n",
    "using System.Runtime.Caching;\n",
    "using static Microsoft.DotNet.Interactive.Formatting.PocketViewTags;\n",
    "using Microsoft.ML;"
   ]
  },
  {
   "cell_type": "markdown",
   "metadata": {},
   "source": [
    "The first step is to get the environment URL from the user. Visual Studio Code will prompt you for an environment URL when you run the next block. Provide an environment URL. Once the URL is provided, Azure Identity SDK can be used to get the token based on the current logged in user in VSCode. This user needs to have access to both Azure and Power Apps environment. DataverseClient will use Azure Identity SDK to retrieve the token. The client is now authenticated."
   ]
  },
  {
   "cell_type": "code",
   "execution_count": null,
   "metadata": {
    "dotnet_interactive": {
     "language": "csharp"
    }
   },
   "outputs": [],
   "source": [
    "var environment = await GetInputAsync(\"Enter Power Apps Environment URL. e.g. https://org.crm.dynamics.com\");\n",
    "ObjectCache cache = MemoryCache.Default;\n",
    "\n",
    "var managedIdentity = new DefaultAzureCredential();\n",
    "var client = new ServiceClient(\n",
    "    tokenProviderFunction: f => GetToken(environment, managedIdentity, cache),\n",
    "    instanceUrl: new Uri(environment));\n",
    "\n",
    "\n",
    "private async Task<string> GetToken(string environment, DefaultAzureCredential credential, ObjectCache cache)\n",
    "{\n",
    "    //TokenProviderFunction is called multiple times, so we need to check if we already have a token in the cache\n",
    "\tvar accessToken = cache.Get(environment);\n",
    "\tif (accessToken == null)\n",
    "\t{\n",
    "\t\taccessToken = (await credential.GetTokenAsync(new TokenRequestContext(new[] { $\"{environment}/.default\" })));\n",
    "\t\tcache.Set(environment, accessToken, new CacheItemPolicy { AbsoluteExpiration = DateTimeOffset.UtcNow.AddMinutes(50) });\n",
    "\t}\n",
    "\telse\n",
    "\t{\n",
    "\t\tWriteLine($\"Getting token from cache: Expires: {((AccessToken)accessToken).ExpiresOn.ToLocalTime().ToString(\"s\")}, {((AccessToken)accessToken).Token}\");\n",
    "\t}\n",
    "\treturn ((AccessToken)accessToken).Token;\n",
    "}"
   ]
  },
  {
   "cell_type": "markdown",
   "metadata": {},
   "source": [
    "Since the `ServiceClient` is now authenticated, we can easily use this for all Dataverse calls."
   ]
  },
  {
   "cell_type": "code",
   "execution_count": null,
   "metadata": {
    "dotnet_interactive": {
     "language": "csharp"
    }
   },
   "outputs": [],
   "source": [
    "$\"Tenant: {client.OrganizationDetail.TenantId}\\nOrganizationId: {client.OrganizationDetail.OrganizationId}\\nFriendlyName: {client.OrganizationDetail.FriendlyName}\""
   ]
  },
  {
   "cell_type": "markdown",
   "metadata": {},
   "source": [
    "Now let us try to get some metadata."
   ]
  },
  {
   "cell_type": "code",
   "execution_count": null,
   "metadata": {
    "dotnet_interactive": {
     "language": "csharp"
    }
   },
   "outputs": [],
   "source": [
    "var entities = client.GetEntityMetadata(\"systemuser\", EntityFilters.Attributes);\n",
    "var attributes = entities.Attributes.Select(x=>new {x.ColumnNumber, x.LogicalName, DisplayName = x.DisplayName.UserLocalizedLabel?.Label ?? \"\"}).OrderBy(x=>x.ColumnNumber);\n",
    "JsonSerializer.Serialize(attributes) //We need to serialise so that it can be rendered by Data Table extension as a scrollable table. It will use the default formatter otherwise, which does not scroll."
   ]
  },
  {
   "cell_type": "markdown",
   "metadata": {},
   "source": [
    "Now let us try some messages. For example, `RetrieveTotalRecordCountRequest` which gives us the table count (snapshot)."
   ]
  },
  {
   "cell_type": "code",
   "execution_count": null,
   "metadata": {
    "dotnet_interactive": {
     "language": "csharp"
    }
   },
   "outputs": [],
   "source": [
    "var recordCountResponse = ((RetrieveTotalRecordCountResponse)client.Execute(new RetrieveTotalRecordCountRequest\n",
    "{\n",
    "    EntityNames = new string[] { \"account\", \"contact\", \"systemuser\" }\n",
    "})).EntityRecordCountCollection;\n",
    "JsonSerializer.Serialize(recordCountResponse) //We need to serialise so that it can be rendered by Data Table extension as a scrollable table. It will use the default formatter otherwise, which does not scroll."
   ]
  },
  {
   "cell_type": "markdown",
   "metadata": {},
   "source": [
    "[PowerPlatform-DataverseServiceClient](https://github.com/microsoft/PowerPlatform-DataverseServiceClient) is still in preview. So, don't use it in production yet. But, it is great to use for data wrangling and some quick fixes to your Dataverse environment. I use it in my [Dataverse LINQPad Driver](https://github.com/rajyraman/Dataverse-LINQPad-Driver) as well.\n",
    "\n",
    "Happy building.\n",
    "\n",
    "[Natraj](https://twitter.com/rajyraman)"
   ]
  }
 ],
 "metadata": {
  "kernelspec": {
   "display_name": ".NET (C#)",
   "language": "C#",
   "name": ".net-csharp"
  },
  "language_info": {
   "file_extension": ".cs",
   "mimetype": "text/x-csharp",
   "name": "C#",
   "pygments_lexer": "csharp",
   "version": "9.0"
  },
  "orig_nbformat": 4
 },
 "nbformat": 4,
 "nbformat_minor": 2
}
