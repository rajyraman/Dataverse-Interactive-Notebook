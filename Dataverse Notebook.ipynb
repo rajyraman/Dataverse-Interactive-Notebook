{
 "cells": [
  {
   "cell_type": "markdown",
   "metadata": {},
   "source": [
    "# Dataverse Interactive Notebook\n",
    "\n",
    "This notebook demonstrates how you can use interactive notebooks with PowerPlatform .net core assembly"
   ]
  },
  {
   "cell_type": "code",
   "execution_count": null,
   "metadata": {
    "dotnet_interactive": {
     "language": "csharp"
    }
   },
   "outputs": [],
   "source": [
    "#r \"nuget:Microsoft.PowerPlatform.Dataverse.Client,*-*\"\n",
    "#r \"nuget:Azure.Identity,*-*\"\n",
    "#r \"nuget:Microsoft.DotNet.Interactive.ExtensionLab,*-*\"\n",
    "\n",
    "using System;\n",
    "using System.Linq;\n",
    "using System.Collections;\n",
    "using System.Collections.Generic;\n",
    "using Azure.Core;\n",
    "using Azure.Identity;\n",
    "using Microsoft.PowerPlatform.Dataverse.Client;\n",
    "using Microsoft.Xrm.Sdk;\n",
    "using Microsoft.Xrm.Sdk.Metadata;\n",
    "using Microsoft.Crm.Sdk.Messages;"
   ]
  },
  {
   "cell_type": "markdown",
   "metadata": {},
   "source": [
    "The first step is to get the environment URL from the user. Visual Studio Code will prompt you for an environment URL when you run the next block. Provide an environment URL. Once the URL is provided, Azure Identity SDK can be used to get the token based on the current logged in user in VSCode. This user needs to have access to both Azure and Power Apps environment. DataverseClient will use Azure Identity SDK to retrieve the token. The client is now authenticated."
   ]
  },
  {
   "cell_type": "code",
   "execution_count": null,
   "metadata": {
    "dotnet_interactive": {
     "language": "csharp"
    }
   },
   "outputs": [],
   "source": [
    "var environment = await GetInputAsync(\"Enter Power Apps Environment URL. e.g. https://org.crm.dynamics.com\");\n",
    "var managedIdentity = new DefaultAzureCredential();\n",
    "var client = new ServiceClient(tokenProviderFunction: async u =>\n",
    "    (await managedIdentity.GetTokenAsync(\n",
    "        new TokenRequestContext(new[] { $\"{environment}/.default\" }))).Token, \n",
    "        instanceUrl: new Uri(environment));"
   ]
  },
  {
   "cell_type": "markdown",
   "metadata": {},
   "source": [
    "Since the `ServiceClient` is now authenticated, we can easily use this for all Dataverse calls."
   ]
  },
  {
   "cell_type": "code",
   "execution_count": null,
   "metadata": {
    "dotnet_interactive": {
     "language": "csharp"
    }
   },
   "outputs": [],
   "source": [
    "display($\"Tenant: {client.OrganizationDetail.TenantId}\\nOrganizationId: {client.OrganizationDetail.OrganizationId}\\nFriendlyName: {client.OrganizationDetail.FriendlyName}\");"
   ]
  },
  {
   "cell_type": "markdown",
   "metadata": {},
   "source": [
    "Now let us try to get some metadata."
   ]
  },
  {
   "cell_type": "code",
   "execution_count": null,
   "metadata": {
    "dotnet_interactive": {
     "language": "csharp"
    }
   },
   "outputs": [],
   "source": [
    "var entities = client.GetEntityMetadata(\"systemuser\", EntityFilters.Attributes);\n",
    "display(entities.Attributes.Select(x=>new {x.ColumnNumber, x.LogicalName, DisplayName = x.DisplayName.UserLocalizedLabel?.Label ?? \"\"}).OrderBy(x=>x.ColumnNumber));"
   ]
  },
  {
   "cell_type": "markdown",
   "metadata": {},
   "source": [
    "Now let us try some messages. For example, `RetrieveTotalRecordCountRequest` which gives us the table count (snapshot)."
   ]
  },
  {
   "cell_type": "code",
   "execution_count": null,
   "metadata": {
    "dotnet_interactive": {
     "language": "csharp"
    }
   },
   "outputs": [],
   "source": [
    "var recordCountResponse = ((RetrieveTotalRecordCountResponse)client.Execute(new RetrieveTotalRecordCountRequest\n",
    "{\n",
    "    EntityNames = new string[] { \"account\", \"contact\", \"systemuser\" }\n",
    "})).EntityRecordCountCollection;\n",
    "display(recordCountResponse);"
   ]
  },
  {
   "cell_type": "markdown",
   "metadata": {},
   "source": [
    "[PowerPlatform-DataverseServiceClient](https://github.com/microsoft/PowerPlatform-DataverseServiceClient) is still in preview. So, don't use it in production yet. But, it is great to use for data wrangling and some quick fixes to your Dataverse environment. I use it in my [Dataverse LINQPad Driver](https://github.com/rajyraman/Dataverse-LINQPad-Driver) as well.\n",
    "\n",
    "Happy building.\n",
    "\n",
    "[Natraj](https://twitter.com/rajyraman)"
   ]
  }
 ],
 "metadata": {
  "kernelspec": {
   "display_name": ".NET (C#)",
   "language": "C#",
   "name": ".net-csharp"
  },
  "language_info": {
   "file_extension": ".cs",
   "mimetype": "text/x-csharp",
   "name": "C#",
   "pygments_lexer": "csharp",
   "version": "9.0"
  },
  "orig_nbformat": 4
 },
 "nbformat": 4,
 "nbformat_minor": 2
}
